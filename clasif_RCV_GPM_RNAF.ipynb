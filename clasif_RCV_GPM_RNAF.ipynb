{
  "cells": [
    {
      "cell_type": "markdown",
      "id": "adapted-handle",
      "metadata": {
        "id": "adapted-handle"
      },
      "source": [
        "## Cargar librerías\n",
        "The Python programming language relies on specialized code libraries for various functionalities. For example, if we want to graph we can invoke (call, load) a specialized library such as matplotlib. This packaging of code with concrete functions and the like is similar to what R software does with packages. Next, the libraries required for the correct training of multilayer perceptron neural networks are imported. The specialized libraries specifically for training neural networks to predict cardiovascular risk are TensorFlow (_version 2.13.0_) and Keras (_version 2.13.1_).\n",
        "\n",
        "<!-- El lenguaje de programación python se apoya en librerías de código especializadas en diversas funcionalidades. Por ejemplo, si queremos graficar podemos invocar (llamar, cargar) una librerías especilizada como matplotlib. ESte empaquetamiento de código con funciones concretas y similares, se asemeja a los que hace el software R con los paquetes. A continuación, se importan las librerías requeridas para el correcto entrenamiento de redes neuronales del tipo perceptrón multicapa. Las librerías especializadas, específicamente para entrenar las redes neuronales para predecri riesgo cardiovascular son las siguientes TensorFlow (_versión 2.13.0_) y Keras (_versión 2.13.1_). -->"
      ]
    },
    {
      "cell_type": "code",
      "execution_count": null,
      "id": "cardiovascular-satin",
      "metadata": {
        "id": "cardiovascular-satin"
      },
      "outputs": [],
      "source": [
        "# Librerías básicas de Python\n",
        "import numpy as np\n",
        "import pandas as pd\n",
        "import matplotlib.pyplot as plt\n",
        "\n",
        "# Librería para calcular tiempo de ejecución\n",
        "from time import process_time\n",
        "\n",
        "# Librerías para particionar conjunto de datos\n",
        "from sklearn.preprocessing import StandardScaler\n",
        "from sklearn.model_selection import train_test_split as split\n",
        "\n",
        "# Funciones requeridas de la librerías que permite entrenar redes neuronales\n",
        "# artificiales\n",
        "from tensorflow.keras import models\n",
        "from tensorflow.keras.layers import Dense\n",
        "from tensorflow.keras import optimizers\n",
        "from tensorflow.keras import utils as np_utils\n",
        "\n",
        "# Funciones requeridas de la librería para evaluar desempeño de la RNA\n",
        "from sklearn.metrics import roc_curve, roc_auc_score\n",
        "from sklearn.metrics import classification_report, confusion_matrix"
      ]
    },
    {
      "cell_type": "markdown",
      "source": [
        "## Verificación de versiones de librerías\n",
        "De manera rutinaria se recomienda hacer la verificación de la versión actual de las versiones de Python, TensorFlow y Keras. Por lo tanto a continuación se mnuestran las lineas de código para verificar las versiones de dichas librerías, incluyendo la versión del sistema operativo. Google Colaboratory se ejecuta sobre un sistema operatio Linux distribución Ubuntu,"
      ],
      "metadata": {
        "id": "foKFuPu-R0To"
      },
      "id": "foKFuPu-R0To"
    },
    {
      "cell_type": "code",
      "source": [
        "import tensorflow\n",
        "import keras\n",
        "print(\"El sistema operativo base de Google Colaboratory es: \")\n",
        "!lsb_release -a\n",
        "print(\"La versión actual de Python es: \")\n",
        "!python --version\n",
        "print(\"La versión instalada de Tensorflow es: \" + tensorflow.__version__)\n",
        "print(\"La versión instalada de Keras es: \" + keras.__version__)"
      ],
      "metadata": {
        "colab": {
          "base_uri": "https://localhost:8080/"
        },
        "id": "iJ-XtMkY7Y4h",
        "outputId": "03776ff7-5496-454b-fe3b-92b4a3e8d333"
      },
      "id": "iJ-XtMkY7Y4h",
      "execution_count": null,
      "outputs": [
        {
          "output_type": "stream",
          "name": "stdout",
          "text": [
            "El sistema operativo base de Google Colaboratory es: \n",
            "No LSB modules are available.\n",
            "Distributor ID:\tUbuntu\n",
            "Description:\tUbuntu 22.04.3 LTS\n",
            "Release:\t22.04\n",
            "Codename:\tjammy\n",
            "La versión actual de Python es: \n",
            "Python 3.10.12\n",
            "La versión instalada de Tensorflow es: 2.15.0\n",
            "La versión instalada de Keras es: 2.15.0\n"
          ]
        }
      ]
    },
    {
      "cell_type": "markdown",
      "id": "nasty-transparency",
      "metadata": {
        "id": "nasty-transparency"
      },
      "source": [
        "## Cargar datos\n",
        "En el contexto del presente taller, los datos que se utilizan para el entrenamiento, evaluación y validación se almacenan en un directorio de Google Drive del mismo usuario actual de Google Colaboratory. Para acceder a los datos solo se requiere ejecutar la primera celda de código de esta sección, luego brindar los permisos de acceo respectivo y, finalmente, cambiar la ruta de acceso al archivo de los datos."
      ]
    },
    {
      "cell_type": "code",
      "source": [
        "from google.colab import drive\n",
        "drive.mount('/content/drive')"
      ],
      "metadata": {
        "id": "9LuuavIPie6Z",
        "colab": {
          "base_uri": "https://localhost:8080/"
        },
        "outputId": "c2055664-82ad-4b74-9f1d-d040c07efaaf"
      },
      "id": "9LuuavIPie6Z",
      "execution_count": null,
      "outputs": [
        {
          "output_type": "stream",
          "name": "stdout",
          "text": [
            "Drive already mounted at /content/drive; to attempt to forcibly remount, call drive.mount(\"/content/drive\", force_remount=True).\n"
          ]
        }
      ]
    },
    {
      "cell_type": "code",
      "execution_count": null,
      "id": "applicable-darkness",
      "metadata": {
        "id": "applicable-darkness"
      },
      "outputs": [],
      "source": [
        "data = pd.read_excel(\"/content/drive/MyDrive/data/pacientes_rcv_limpio.xlsx\")\n",
        "target = data.loc[:, 'Clasificación de RCV Global'].astype(int)\n",
        "data = data.drop(['Clasificación de RCV Global'], axis=1)\n",
        "target=pd.Categorical(target).codes"
      ]
    },
    {
      "cell_type": "code",
      "source": [
        "print(data.shape)\n",
        "data.head()"
      ],
      "metadata": {
        "id": "-NPpefeF2L9D",
        "colab": {
          "base_uri": "https://localhost:8080/"
        },
        "outputId": "46d3ef8a-c53f-4a8a-ba49-830c2801239c"
      },
      "id": "-NPpefeF2L9D",
      "execution_count": null,
      "outputs": [
        {
          "output_type": "stream",
          "name": "stdout",
          "text": [
            "(3000, 35)\n"
          ]
        },
        {
          "output_type": "execute_result",
          "data": {
            "text/plain": [
              "   Edad (años)  Genero  Zona  Fumador Activo  ¿Diabetes?  \\\n",
              "0           82       2     1               1           1   \n",
              "1           83       2     1               1           1   \n",
              "2           54       2     1               1           1   \n",
              "3           68       2     1               1           1   \n",
              "4           68       2     1               1           2   \n",
              "\n",
              "   Hipertensión Arterial Sistemica  HTA + DM  \\\n",
              "0                                2         1   \n",
              "1                                2         1   \n",
              "2                                1         1   \n",
              "3                                1         1   \n",
              "4                                1         1   \n",
              "\n",
              "   Clasificacion de Diabetes o del ultimo estado de Glicemia  \\\n",
              "0                                                0.0           \n",
              "1                                                0.0           \n",
              "2                                                0.0           \n",
              "3                                                0.0           \n",
              "4                                                2.0           \n",
              "\n",
              "   Complicaciones  y Lesiones en Organo Blanco  \\\n",
              "0                                            1   \n",
              "1                                            1   \n",
              "2                                            1   \n",
              "3                                            1   \n",
              "4                                            1   \n",
              "\n",
              "   Antecedentes_Fliar_Enfermedad_Coronaria  ...  Creatinina  \\\n",
              "0                                        1  ...       132.0   \n",
              "1                                        1  ...        97.0   \n",
              "2                                        1  ...        97.0   \n",
              "3                                        1  ...        86.0   \n",
              "4                                        1  ...        71.0   \n",
              "\n",
              "   Factor de corrección de la formula  Proteinuria  \\\n",
              "0                                  85          0.0   \n",
              "1                                  85          0.0   \n",
              "2                                  85          0.0   \n",
              "3                                  85          0.0   \n",
              "4                                  85          0.0   \n",
              "\n",
              "   Calculo de  TFG corregida (Cockcroft-Gault)  Estadio IRC  \\\n",
              "0                                    37.348485          3.0   \n",
              "1                                    33.000000          3.0   \n",
              "2                                    51.000000          3.0   \n",
              "3                                    53.372093          3.0   \n",
              "4                                    68.239437          2.0   \n",
              "\n",
              "   Remisiones Especialidad  Farmacos  Antihipertensivos  Estatina  \\\n",
              "0                      1.0                          1.0         0   \n",
              "1                      1.0                          2.0         0   \n",
              "2                      1.0                          3.0         0   \n",
              "3                      1.0                          1.0         0   \n",
              "4                      1.0                          2.0         0   \n",
              "\n",
              "   Antidiabeticos  Adherencia al tratamiento  \n",
              "0             2.0                        1.0  \n",
              "1             0.0                        1.0  \n",
              "2             0.0                        1.0  \n",
              "3             0.0                        1.0  \n",
              "4             3.0                        1.0  \n",
              "\n",
              "[5 rows x 35 columns]"
            ],
            "text/html": [
              "\n",
              "  <div id=\"df-8ad1104f-bcce-4f04-9f13-831fb6d1cd29\" class=\"colab-df-container\">\n",
              "    <div>\n",
              "<style scoped>\n",
              "    .dataframe tbody tr th:only-of-type {\n",
              "        vertical-align: middle;\n",
              "    }\n",
              "\n",
              "    .dataframe tbody tr th {\n",
              "        vertical-align: top;\n",
              "    }\n",
              "\n",
              "    .dataframe thead th {\n",
              "        text-align: right;\n",
              "    }\n",
              "</style>\n",
              "<table border=\"1\" class=\"dataframe\">\n",
              "  <thead>\n",
              "    <tr style=\"text-align: right;\">\n",
              "      <th></th>\n",
              "      <th>Edad (años)</th>\n",
              "      <th>Genero</th>\n",
              "      <th>Zona</th>\n",
              "      <th>Fumador Activo</th>\n",
              "      <th>¿Diabetes?</th>\n",
              "      <th>Hipertensión Arterial Sistemica</th>\n",
              "      <th>HTA + DM</th>\n",
              "      <th>Clasificacion de Diabetes o del ultimo estado de Glicemia</th>\n",
              "      <th>Complicaciones  y Lesiones en Organo Blanco</th>\n",
              "      <th>Antecedentes_Fliar_Enfermedad_Coronaria</th>\n",
              "      <th>...</th>\n",
              "      <th>Creatinina</th>\n",
              "      <th>Factor de corrección de la formula</th>\n",
              "      <th>Proteinuria</th>\n",
              "      <th>Calculo de  TFG corregida (Cockcroft-Gault)</th>\n",
              "      <th>Estadio IRC</th>\n",
              "      <th>Remisiones Especialidad</th>\n",
              "      <th>Farmacos  Antihipertensivos</th>\n",
              "      <th>Estatina</th>\n",
              "      <th>Antidiabeticos</th>\n",
              "      <th>Adherencia al tratamiento</th>\n",
              "    </tr>\n",
              "  </thead>\n",
              "  <tbody>\n",
              "    <tr>\n",
              "      <th>0</th>\n",
              "      <td>82</td>\n",
              "      <td>2</td>\n",
              "      <td>1</td>\n",
              "      <td>1</td>\n",
              "      <td>1</td>\n",
              "      <td>2</td>\n",
              "      <td>1</td>\n",
              "      <td>0.0</td>\n",
              "      <td>1</td>\n",
              "      <td>1</td>\n",
              "      <td>...</td>\n",
              "      <td>132.0</td>\n",
              "      <td>85</td>\n",
              "      <td>0.0</td>\n",
              "      <td>37.348485</td>\n",
              "      <td>3.0</td>\n",
              "      <td>1.0</td>\n",
              "      <td>1.0</td>\n",
              "      <td>0</td>\n",
              "      <td>2.0</td>\n",
              "      <td>1.0</td>\n",
              "    </tr>\n",
              "    <tr>\n",
              "      <th>1</th>\n",
              "      <td>83</td>\n",
              "      <td>2</td>\n",
              "      <td>1</td>\n",
              "      <td>1</td>\n",
              "      <td>1</td>\n",
              "      <td>2</td>\n",
              "      <td>1</td>\n",
              "      <td>0.0</td>\n",
              "      <td>1</td>\n",
              "      <td>1</td>\n",
              "      <td>...</td>\n",
              "      <td>97.0</td>\n",
              "      <td>85</td>\n",
              "      <td>0.0</td>\n",
              "      <td>33.000000</td>\n",
              "      <td>3.0</td>\n",
              "      <td>1.0</td>\n",
              "      <td>2.0</td>\n",
              "      <td>0</td>\n",
              "      <td>0.0</td>\n",
              "      <td>1.0</td>\n",
              "    </tr>\n",
              "    <tr>\n",
              "      <th>2</th>\n",
              "      <td>54</td>\n",
              "      <td>2</td>\n",
              "      <td>1</td>\n",
              "      <td>1</td>\n",
              "      <td>1</td>\n",
              "      <td>1</td>\n",
              "      <td>1</td>\n",
              "      <td>0.0</td>\n",
              "      <td>1</td>\n",
              "      <td>1</td>\n",
              "      <td>...</td>\n",
              "      <td>97.0</td>\n",
              "      <td>85</td>\n",
              "      <td>0.0</td>\n",
              "      <td>51.000000</td>\n",
              "      <td>3.0</td>\n",
              "      <td>1.0</td>\n",
              "      <td>3.0</td>\n",
              "      <td>0</td>\n",
              "      <td>0.0</td>\n",
              "      <td>1.0</td>\n",
              "    </tr>\n",
              "    <tr>\n",
              "      <th>3</th>\n",
              "      <td>68</td>\n",
              "      <td>2</td>\n",
              "      <td>1</td>\n",
              "      <td>1</td>\n",
              "      <td>1</td>\n",
              "      <td>1</td>\n",
              "      <td>1</td>\n",
              "      <td>0.0</td>\n",
              "      <td>1</td>\n",
              "      <td>1</td>\n",
              "      <td>...</td>\n",
              "      <td>86.0</td>\n",
              "      <td>85</td>\n",
              "      <td>0.0</td>\n",
              "      <td>53.372093</td>\n",
              "      <td>3.0</td>\n",
              "      <td>1.0</td>\n",
              "      <td>1.0</td>\n",
              "      <td>0</td>\n",
              "      <td>0.0</td>\n",
              "      <td>1.0</td>\n",
              "    </tr>\n",
              "    <tr>\n",
              "      <th>4</th>\n",
              "      <td>68</td>\n",
              "      <td>2</td>\n",
              "      <td>1</td>\n",
              "      <td>1</td>\n",
              "      <td>2</td>\n",
              "      <td>1</td>\n",
              "      <td>1</td>\n",
              "      <td>2.0</td>\n",
              "      <td>1</td>\n",
              "      <td>1</td>\n",
              "      <td>...</td>\n",
              "      <td>71.0</td>\n",
              "      <td>85</td>\n",
              "      <td>0.0</td>\n",
              "      <td>68.239437</td>\n",
              "      <td>2.0</td>\n",
              "      <td>1.0</td>\n",
              "      <td>2.0</td>\n",
              "      <td>0</td>\n",
              "      <td>3.0</td>\n",
              "      <td>1.0</td>\n",
              "    </tr>\n",
              "  </tbody>\n",
              "</table>\n",
              "<p>5 rows × 35 columns</p>\n",
              "</div>\n",
              "    <div class=\"colab-df-buttons\">\n",
              "\n",
              "  <div class=\"colab-df-container\">\n",
              "    <button class=\"colab-df-convert\" onclick=\"convertToInteractive('df-8ad1104f-bcce-4f04-9f13-831fb6d1cd29')\"\n",
              "            title=\"Convert this dataframe to an interactive table.\"\n",
              "            style=\"display:none;\">\n",
              "\n",
              "  <svg xmlns=\"http://www.w3.org/2000/svg\" height=\"24px\" viewBox=\"0 -960 960 960\">\n",
              "    <path d=\"M120-120v-720h720v720H120Zm60-500h600v-160H180v160Zm220 220h160v-160H400v160Zm0 220h160v-160H400v160ZM180-400h160v-160H180v160Zm440 0h160v-160H620v160ZM180-180h160v-160H180v160Zm440 0h160v-160H620v160Z\"/>\n",
              "  </svg>\n",
              "    </button>\n",
              "\n",
              "  <style>\n",
              "    .colab-df-container {\n",
              "      display:flex;\n",
              "      gap: 12px;\n",
              "    }\n",
              "\n",
              "    .colab-df-convert {\n",
              "      background-color: #E8F0FE;\n",
              "      border: none;\n",
              "      border-radius: 50%;\n",
              "      cursor: pointer;\n",
              "      display: none;\n",
              "      fill: #1967D2;\n",
              "      height: 32px;\n",
              "      padding: 0 0 0 0;\n",
              "      width: 32px;\n",
              "    }\n",
              "\n",
              "    .colab-df-convert:hover {\n",
              "      background-color: #E2EBFA;\n",
              "      box-shadow: 0px 1px 2px rgba(60, 64, 67, 0.3), 0px 1px 3px 1px rgba(60, 64, 67, 0.15);\n",
              "      fill: #174EA6;\n",
              "    }\n",
              "\n",
              "    .colab-df-buttons div {\n",
              "      margin-bottom: 4px;\n",
              "    }\n",
              "\n",
              "    [theme=dark] .colab-df-convert {\n",
              "      background-color: #3B4455;\n",
              "      fill: #D2E3FC;\n",
              "    }\n",
              "\n",
              "    [theme=dark] .colab-df-convert:hover {\n",
              "      background-color: #434B5C;\n",
              "      box-shadow: 0px 1px 3px 1px rgba(0, 0, 0, 0.15);\n",
              "      filter: drop-shadow(0px 1px 2px rgba(0, 0, 0, 0.3));\n",
              "      fill: #FFFFFF;\n",
              "    }\n",
              "  </style>\n",
              "\n",
              "    <script>\n",
              "      const buttonEl =\n",
              "        document.querySelector('#df-8ad1104f-bcce-4f04-9f13-831fb6d1cd29 button.colab-df-convert');\n",
              "      buttonEl.style.display =\n",
              "        google.colab.kernel.accessAllowed ? 'block' : 'none';\n",
              "\n",
              "      async function convertToInteractive(key) {\n",
              "        const element = document.querySelector('#df-8ad1104f-bcce-4f04-9f13-831fb6d1cd29');\n",
              "        const dataTable =\n",
              "          await google.colab.kernel.invokeFunction('convertToInteractive',\n",
              "                                                    [key], {});\n",
              "        if (!dataTable) return;\n",
              "\n",
              "        const docLinkHtml = 'Like what you see? Visit the ' +\n",
              "          '<a target=\"_blank\" href=https://colab.research.google.com/notebooks/data_table.ipynb>data table notebook</a>'\n",
              "          + ' to learn more about interactive tables.';\n",
              "        element.innerHTML = '';\n",
              "        dataTable['output_type'] = 'display_data';\n",
              "        await google.colab.output.renderOutput(dataTable, element);\n",
              "        const docLink = document.createElement('div');\n",
              "        docLink.innerHTML = docLinkHtml;\n",
              "        element.appendChild(docLink);\n",
              "      }\n",
              "    </script>\n",
              "  </div>\n",
              "\n",
              "\n",
              "<div id=\"df-f9a19be5-c635-4d0a-8134-db862ff2b2aa\">\n",
              "  <button class=\"colab-df-quickchart\" onclick=\"quickchart('df-f9a19be5-c635-4d0a-8134-db862ff2b2aa')\"\n",
              "            title=\"Suggest charts\"\n",
              "            style=\"display:none;\">\n",
              "\n",
              "<svg xmlns=\"http://www.w3.org/2000/svg\" height=\"24px\"viewBox=\"0 0 24 24\"\n",
              "     width=\"24px\">\n",
              "    <g>\n",
              "        <path d=\"M19 3H5c-1.1 0-2 .9-2 2v14c0 1.1.9 2 2 2h14c1.1 0 2-.9 2-2V5c0-1.1-.9-2-2-2zM9 17H7v-7h2v7zm4 0h-2V7h2v10zm4 0h-2v-4h2v4z\"/>\n",
              "    </g>\n",
              "</svg>\n",
              "  </button>\n",
              "\n",
              "<style>\n",
              "  .colab-df-quickchart {\n",
              "      --bg-color: #E8F0FE;\n",
              "      --fill-color: #1967D2;\n",
              "      --hover-bg-color: #E2EBFA;\n",
              "      --hover-fill-color: #174EA6;\n",
              "      --disabled-fill-color: #AAA;\n",
              "      --disabled-bg-color: #DDD;\n",
              "  }\n",
              "\n",
              "  [theme=dark] .colab-df-quickchart {\n",
              "      --bg-color: #3B4455;\n",
              "      --fill-color: #D2E3FC;\n",
              "      --hover-bg-color: #434B5C;\n",
              "      --hover-fill-color: #FFFFFF;\n",
              "      --disabled-bg-color: #3B4455;\n",
              "      --disabled-fill-color: #666;\n",
              "  }\n",
              "\n",
              "  .colab-df-quickchart {\n",
              "    background-color: var(--bg-color);\n",
              "    border: none;\n",
              "    border-radius: 50%;\n",
              "    cursor: pointer;\n",
              "    display: none;\n",
              "    fill: var(--fill-color);\n",
              "    height: 32px;\n",
              "    padding: 0;\n",
              "    width: 32px;\n",
              "  }\n",
              "\n",
              "  .colab-df-quickchart:hover {\n",
              "    background-color: var(--hover-bg-color);\n",
              "    box-shadow: 0 1px 2px rgba(60, 64, 67, 0.3), 0 1px 3px 1px rgba(60, 64, 67, 0.15);\n",
              "    fill: var(--button-hover-fill-color);\n",
              "  }\n",
              "\n",
              "  .colab-df-quickchart-complete:disabled,\n",
              "  .colab-df-quickchart-complete:disabled:hover {\n",
              "    background-color: var(--disabled-bg-color);\n",
              "    fill: var(--disabled-fill-color);\n",
              "    box-shadow: none;\n",
              "  }\n",
              "\n",
              "  .colab-df-spinner {\n",
              "    border: 2px solid var(--fill-color);\n",
              "    border-color: transparent;\n",
              "    border-bottom-color: var(--fill-color);\n",
              "    animation:\n",
              "      spin 1s steps(1) infinite;\n",
              "  }\n",
              "\n",
              "  @keyframes spin {\n",
              "    0% {\n",
              "      border-color: transparent;\n",
              "      border-bottom-color: var(--fill-color);\n",
              "      border-left-color: var(--fill-color);\n",
              "    }\n",
              "    20% {\n",
              "      border-color: transparent;\n",
              "      border-left-color: var(--fill-color);\n",
              "      border-top-color: var(--fill-color);\n",
              "    }\n",
              "    30% {\n",
              "      border-color: transparent;\n",
              "      border-left-color: var(--fill-color);\n",
              "      border-top-color: var(--fill-color);\n",
              "      border-right-color: var(--fill-color);\n",
              "    }\n",
              "    40% {\n",
              "      border-color: transparent;\n",
              "      border-right-color: var(--fill-color);\n",
              "      border-top-color: var(--fill-color);\n",
              "    }\n",
              "    60% {\n",
              "      border-color: transparent;\n",
              "      border-right-color: var(--fill-color);\n",
              "    }\n",
              "    80% {\n",
              "      border-color: transparent;\n",
              "      border-right-color: var(--fill-color);\n",
              "      border-bottom-color: var(--fill-color);\n",
              "    }\n",
              "    90% {\n",
              "      border-color: transparent;\n",
              "      border-bottom-color: var(--fill-color);\n",
              "    }\n",
              "  }\n",
              "</style>\n",
              "\n",
              "  <script>\n",
              "    async function quickchart(key) {\n",
              "      const quickchartButtonEl =\n",
              "        document.querySelector('#' + key + ' button');\n",
              "      quickchartButtonEl.disabled = true;  // To prevent multiple clicks.\n",
              "      quickchartButtonEl.classList.add('colab-df-spinner');\n",
              "      try {\n",
              "        const charts = await google.colab.kernel.invokeFunction(\n",
              "            'suggestCharts', [key], {});\n",
              "      } catch (error) {\n",
              "        console.error('Error during call to suggestCharts:', error);\n",
              "      }\n",
              "      quickchartButtonEl.classList.remove('colab-df-spinner');\n",
              "      quickchartButtonEl.classList.add('colab-df-quickchart-complete');\n",
              "    }\n",
              "    (() => {\n",
              "      let quickchartButtonEl =\n",
              "        document.querySelector('#df-f9a19be5-c635-4d0a-8134-db862ff2b2aa button');\n",
              "      quickchartButtonEl.style.display =\n",
              "        google.colab.kernel.accessAllowed ? 'block' : 'none';\n",
              "    })();\n",
              "  </script>\n",
              "</div>\n",
              "\n",
              "    </div>\n",
              "  </div>\n"
            ],
            "application/vnd.google.colaboratory.intrinsic+json": {
              "type": "dataframe",
              "variable_name": "data"
            }
          },
          "metadata": {},
          "execution_count": 236
        }
      ]
    },
    {
      "cell_type": "code",
      "source": [
        "data.dtypes"
      ],
      "metadata": {
        "id": "pHpr2_1D3qk8",
        "colab": {
          "base_uri": "https://localhost:8080/"
        },
        "outputId": "0fafab9c-dd6b-48e7-f9c8-68ce98d565a0"
      },
      "id": "pHpr2_1D3qk8",
      "execution_count": null,
      "outputs": [
        {
          "output_type": "execute_result",
          "data": {
            "text/plain": [
              "Edad (años)                                                    int64\n",
              "Genero                                                         int64\n",
              "Zona                                                           int64\n",
              "Fumador Activo                                                 int64\n",
              "¿Diabetes?                                                     int64\n",
              "Hipertensión Arterial Sistemica                                int64\n",
              "HTA + DM                                                       int64\n",
              "Clasificacion de Diabetes o del ultimo estado de Glicemia    float64\n",
              "Complicaciones  y Lesiones en Organo Blanco                    int64\n",
              "Antecedentes_Fliar_Enfermedad_Coronaria                        int64\n",
              "Tension SISTOLICA                                              int64\n",
              "Tension DIASTOLICA                                           float64\n",
              "HTA COMPENSADOS                                                int64\n",
              "Colesterol Total                                               int64\n",
              "Colesterol HDL                                               float64\n",
              "Trigliceridos                                                  int64\n",
              "Colesterol LDL                                               float64\n",
              "HTA Y DM COMPENSADA                                            int64\n",
              "Glicemia de ayuno                                            float64\n",
              "Perimetro Abdominal                                          float64\n",
              "Clasificación perímetro abdominal                            float64\n",
              "Peso                                                           int64\n",
              "Talla                                                          int64\n",
              "IMC                                                            int64\n",
              "CLASIFICACION IMC                                              int64\n",
              "Creatinina                                                   float64\n",
              "Factor de corrección de la formula                             int64\n",
              "Proteinuria                                                  float64\n",
              "Calculo de  TFG corregida (Cockcroft-Gault)                  float64\n",
              "Estadio IRC                                                  float64\n",
              "Remisiones Especialidad                                      float64\n",
              "Farmacos  Antihipertensivos                                  float64\n",
              "Estatina                                                       int64\n",
              "Antidiabeticos                                               float64\n",
              "Adherencia al tratamiento                                    float64\n",
              "dtype: object"
            ]
          },
          "metadata": {},
          "execution_count": 237
        }
      ]
    },
    {
      "cell_type": "markdown",
      "source": [
        "## Conteo de clases\n",
        "\n",
        "El desbalance de clases es notorio. La clase que representa al riesgo cardiovascular intermedio tiene 40% menos muestras que el riesgo cardiovascular alto. Entretanto, la clase que representa al riesgo cardiovascular bajo tiene 60% menos muestras que el riesgo cardiovascular alto."
      ],
      "metadata": {
        "id": "cY7fuulPDmAL"
      },
      "id": "cY7fuulPDmAL"
    },
    {
      "cell_type": "code",
      "source": [
        "import pandas as pd\n",
        "pd.DataFrame(target).value_counts()"
      ],
      "metadata": {
        "id": "Qw3A8P10DqBR",
        "colab": {
          "base_uri": "https://localhost:8080/"
        },
        "outputId": "f36cd621-0e78-46f3-c3de-f2de0c57c788"
      },
      "id": "Qw3A8P10DqBR",
      "execution_count": null,
      "outputs": [
        {
          "output_type": "execute_result",
          "data": {
            "text/plain": [
              "2    1597\n",
              "1     820\n",
              "0     583\n",
              "Name: count, dtype: int64"
            ]
          },
          "metadata": {},
          "execution_count": 238
        }
      ]
    },
    {
      "cell_type": "markdown",
      "id": "maritime-warren",
      "metadata": {
        "id": "maritime-warren"
      },
      "source": [
        "## Preparar datos para el entrenamiento de la RNA\n",
        "En esta sección se excluyen la etapa de preprocesamiento de los datos, en la cual, se segue una metodología para asegurar la calidad de los datos. Así mismo, se excluye la etapa de análisis exploratorio de datos, en la cual, se eaplican técnicas de estadística descriptiva y, en algunos casos, inferencial. Por lo tanto, para efectos del taller, esta sección se restringue a la partición del conjunto original de datos para obtener los tres subconjguntos vitales en el entrenamiento y evaluación del modelo predictivo."
      ]
    },
    {
      "cell_type": "markdown",
      "id": "waiting-pizza",
      "metadata": {
        "id": "waiting-pizza"
      },
      "source": [
        "### Particionar datos"
      ]
    },
    {
      "cell_type": "code",
      "source": [
        "## Particionar el conjunto de datos para crear datos de entrenamiento, evaluación y validación.\n",
        "sc = StandardScaler()\n",
        "Xsc = sc.fit(data)\n",
        "X = Xsc.transform(data)\n",
        "X.shape\n",
        "\n",
        "X_train, X_test, y_train, y_test = split(X,target,\n",
        "                                         test_size=0.30,\n",
        "                                         random_state=42,\n",
        "                                         stratify=target)\n",
        "X_train, X_valid, y_train, y_valid = split(X_train, y_train,\n",
        "                                           test_size=0.2,\n",
        "                                           stratify=y_train)\n",
        "print(\"El tamaño de los nuevos subconjuntos es: \", X_train.shape, X_test.shape, X_valid.shape)\n",
        "print(\"Y es la variable que tiene las etiquetas de las clases a predecir: \", y_train.shape, y_test.shape, y_valid.shape)"
      ],
      "metadata": {
        "id": "5KnSXVxYVyxr",
        "colab": {
          "base_uri": "https://localhost:8080/"
        },
        "outputId": "4f0bcffd-cc93-450f-f11b-b11383dda4db"
      },
      "id": "5KnSXVxYVyxr",
      "execution_count": null,
      "outputs": [
        {
          "output_type": "stream",
          "name": "stdout",
          "text": [
            "El tamaño de los nuevos subconjuntos es:  (1680, 35) (900, 35) (420, 35)\n",
            "Y es la variable que tiene las etiquetas de las clases a predecir:  (1680,) (900,) (420,)\n"
          ]
        }
      ]
    },
    {
      "cell_type": "markdown",
      "source": [
        "### Transformación de etiquetas de la clase objetivo (Predicción Multiclase)"
      ],
      "metadata": {
        "id": "h6XCkQXzYfYh"
      },
      "id": "h6XCkQXzYfYh"
    },
    {
      "cell_type": "code",
      "execution_count": null,
      "id": "productive-bunny",
      "metadata": {
        "id": "productive-bunny"
      },
      "outputs": [],
      "source": [
        "# #Transformación de las etiquetas requerida para el entrenamiento de RNA\n",
        "Y_train = np_utils.to_categorical(y_train)\n",
        "Y_test = np_utils.to_categorical(y_test)\n",
        "Y_valid = np_utils.to_categorical(y_valid)"
      ]
    },
    {
      "cell_type": "markdown",
      "id": "assured-conversation",
      "metadata": {
        "id": "assured-conversation"
      },
      "source": [
        "## Entrenamiento del modelo predictivo basado en RNA"
      ]
    },
    {
      "cell_type": "code",
      "source": [
        "# Optimización de hiperparámetros\n",
        "#funcion de activacion\n",
        "#loss\n",
        "#metrics\n",
        "#optimizer\n",
        "#learning_rate\n",
        "#epochs\n",
        "#batch_size"
      ],
      "metadata": {
        "id": "rJ5hcFCxa-c_"
      },
      "id": "rJ5hcFCxa-c_",
      "execution_count": null,
      "outputs": []
    },
    {
      "cell_type": "markdown",
      "id": "external-sydney",
      "metadata": {
        "id": "external-sydney"
      },
      "source": [
        "### Diseño de la arquitectura del modelo de red neuronal artificial"
      ]
    },
    {
      "cell_type": "markdown",
      "source": [
        "### Compilar el modelo creado"
      ],
      "metadata": {
        "id": "ychB9Bk6p4xq"
      },
      "id": "ychB9Bk6p4xq"
    },
    {
      "cell_type": "code",
      "execution_count": null,
      "id": "subject-electric",
      "metadata": {
        "id": "subject-electric"
      },
      "outputs": [],
      "source": [
        "# Definir la arquitectura del modelo de la RNA\n",
        "modelRNA = models.Sequential()\n",
        "modelRNA.add(Dense(3, batch_input_shape=(None, 35), activation='relu')) ## neuronas en la capa de entrada (batch_input_shape) y #neuronas en la primera capa oculta\n",
        "\n",
        "modelRNA.add(Dense(256, activation='relu'))\n",
        "modelRNA.add(Dense(128, activation='relu'))\n",
        "modelRNA.add(Dense(64, activation='relu'))\n",
        "modelRNA.add(Dense(32, activation='relu'))\n",
        "\n",
        "\n",
        "modelRNA.add(Dense(3, activation='softmax'))"
      ]
    },
    {
      "cell_type": "code",
      "source": [
        "# compile the keras (tensorflow) flow graph\n",
        "modelRNA.compile(optimizer=optimizers.RMSprop(learning_rate=0.001),\n",
        "              loss='binary_crossentropy',\n",
        "              metrics=['accuracy'])"
      ],
      "metadata": {
        "id": "fmO_BWTTp8yS"
      },
      "id": "fmO_BWTTp8yS",
      "execution_count": null,
      "outputs": []
    },
    {
      "cell_type": "markdown",
      "source": [
        "### Entrenamiento del modelo de RNA"
      ],
      "metadata": {
        "id": "ZkxGCNZJpyIa"
      },
      "id": "ZkxGCNZJpyIa"
    },
    {
      "cell_type": "code",
      "source": [
        "# Inicializar el reloj para calcular tiempo de cómputo\n",
        "t0 = process_time()"
      ],
      "metadata": {
        "id": "EuZG0sHJr-pz"
      },
      "id": "EuZG0sHJr-pz",
      "execution_count": null,
      "outputs": []
    },
    {
      "cell_type": "code",
      "source": [
        "training_log = modelRNA.fit(X_train,\n",
        "                    Y_train,\n",
        "                    epochs=100,\n",
        "                    batch_size=32,\n",
        "                    validation_data=(X_valid, Y_valid),\n",
        "                    verbose=1)"
      ],
      "metadata": {
        "id": "WEXqIZWeIjmt",
        "colab": {
          "base_uri": "https://localhost:8080/"
        },
        "outputId": "ff6da693-1710-40e2-b7b6-da09d3ca20b0"
      },
      "id": "WEXqIZWeIjmt",
      "execution_count": null,
      "outputs": [
        {
          "output_type": "stream",
          "name": "stdout",
          "text": [
            "Epoch 1/100\n",
            "53/53 [==============================] - 1s 7ms/step - loss: 0.6115 - accuracy: 0.5250 - val_loss: 0.5662 - val_accuracy: 0.5452\n",
            "Epoch 2/100\n",
            "53/53 [==============================] - 0s 3ms/step - loss: 0.5666 - accuracy: 0.5500 - val_loss: 0.5492 - val_accuracy: 0.5762\n",
            "Epoch 3/100\n",
            "53/53 [==============================] - 0s 3ms/step - loss: 0.5510 - accuracy: 0.5685 - val_loss: 0.5475 - val_accuracy: 0.5786\n",
            "Epoch 4/100\n",
            "53/53 [==============================] - 0s 3ms/step - loss: 0.5325 - accuracy: 0.5804 - val_loss: 0.5208 - val_accuracy: 0.6000\n",
            "Epoch 5/100\n",
            "53/53 [==============================] - 0s 4ms/step - loss: 0.5142 - accuracy: 0.6095 - val_loss: 0.5160 - val_accuracy: 0.5952\n",
            "Epoch 6/100\n",
            "53/53 [==============================] - 0s 3ms/step - loss: 0.4951 - accuracy: 0.6315 - val_loss: 0.4880 - val_accuracy: 0.6357\n",
            "Epoch 7/100\n",
            "53/53 [==============================] - 0s 4ms/step - loss: 0.4697 - accuracy: 0.6476 - val_loss: 0.4913 - val_accuracy: 0.6476\n",
            "Epoch 8/100\n",
            "53/53 [==============================] - 0s 4ms/step - loss: 0.4439 - accuracy: 0.6774 - val_loss: 0.4583 - val_accuracy: 0.6762\n",
            "Epoch 9/100\n",
            "53/53 [==============================] - 0s 3ms/step - loss: 0.4192 - accuracy: 0.6952 - val_loss: 0.4313 - val_accuracy: 0.7071\n",
            "Epoch 10/100\n",
            "53/53 [==============================] - 0s 4ms/step - loss: 0.3943 - accuracy: 0.7315 - val_loss: 0.4104 - val_accuracy: 0.7119\n",
            "Epoch 11/100\n",
            "53/53 [==============================] - 0s 4ms/step - loss: 0.3751 - accuracy: 0.7530 - val_loss: 0.3900 - val_accuracy: 0.7333\n",
            "Epoch 12/100\n",
            "53/53 [==============================] - 0s 3ms/step - loss: 0.3572 - accuracy: 0.7649 - val_loss: 0.4012 - val_accuracy: 0.7262\n",
            "Epoch 13/100\n",
            "53/53 [==============================] - 0s 3ms/step - loss: 0.3418 - accuracy: 0.7774 - val_loss: 0.3959 - val_accuracy: 0.7286\n",
            "Epoch 14/100\n",
            "53/53 [==============================] - 0s 3ms/step - loss: 0.3316 - accuracy: 0.7905 - val_loss: 0.3872 - val_accuracy: 0.7476\n",
            "Epoch 15/100\n",
            "53/53 [==============================] - 0s 3ms/step - loss: 0.3200 - accuracy: 0.7994 - val_loss: 0.3689 - val_accuracy: 0.7405\n",
            "Epoch 16/100\n",
            "53/53 [==============================] - 0s 4ms/step - loss: 0.3139 - accuracy: 0.8060 - val_loss: 0.3658 - val_accuracy: 0.7571\n",
            "Epoch 17/100\n",
            "53/53 [==============================] - 0s 3ms/step - loss: 0.3090 - accuracy: 0.8077 - val_loss: 0.3465 - val_accuracy: 0.7690\n",
            "Epoch 18/100\n",
            "53/53 [==============================] - 0s 3ms/step - loss: 0.3039 - accuracy: 0.8149 - val_loss: 0.3464 - val_accuracy: 0.7786\n",
            "Epoch 19/100\n",
            "53/53 [==============================] - 0s 3ms/step - loss: 0.2980 - accuracy: 0.8137 - val_loss: 0.3432 - val_accuracy: 0.7810\n",
            "Epoch 20/100\n",
            "53/53 [==============================] - 0s 3ms/step - loss: 0.2951 - accuracy: 0.8179 - val_loss: 0.3487 - val_accuracy: 0.7762\n",
            "Epoch 21/100\n",
            "53/53 [==============================] - 0s 4ms/step - loss: 0.2910 - accuracy: 0.8208 - val_loss: 0.3357 - val_accuracy: 0.7810\n",
            "Epoch 22/100\n",
            "53/53 [==============================] - 0s 3ms/step - loss: 0.2877 - accuracy: 0.8179 - val_loss: 0.3427 - val_accuracy: 0.7714\n",
            "Epoch 23/100\n",
            "53/53 [==============================] - 0s 3ms/step - loss: 0.2814 - accuracy: 0.8286 - val_loss: 0.3381 - val_accuracy: 0.7714\n",
            "Epoch 24/100\n",
            "53/53 [==============================] - 0s 3ms/step - loss: 0.2820 - accuracy: 0.8280 - val_loss: 0.3418 - val_accuracy: 0.7690\n",
            "Epoch 25/100\n",
            "53/53 [==============================] - 0s 3ms/step - loss: 0.2777 - accuracy: 0.8351 - val_loss: 0.3457 - val_accuracy: 0.7762\n",
            "Epoch 26/100\n",
            "53/53 [==============================] - 0s 4ms/step - loss: 0.2796 - accuracy: 0.8310 - val_loss: 0.3431 - val_accuracy: 0.7690\n",
            "Epoch 27/100\n",
            "53/53 [==============================] - 0s 5ms/step - loss: 0.2741 - accuracy: 0.8363 - val_loss: 0.3426 - val_accuracy: 0.7833\n",
            "Epoch 28/100\n",
            "53/53 [==============================] - 0s 3ms/step - loss: 0.2709 - accuracy: 0.8393 - val_loss: 0.3754 - val_accuracy: 0.7619\n",
            "Epoch 29/100\n",
            "53/53 [==============================] - 0s 3ms/step - loss: 0.2697 - accuracy: 0.8339 - val_loss: 0.3263 - val_accuracy: 0.7738\n",
            "Epoch 30/100\n",
            "53/53 [==============================] - 0s 3ms/step - loss: 0.2646 - accuracy: 0.8357 - val_loss: 0.3527 - val_accuracy: 0.7762\n",
            "Epoch 31/100\n",
            "53/53 [==============================] - 0s 3ms/step - loss: 0.2663 - accuracy: 0.8351 - val_loss: 0.3252 - val_accuracy: 0.7738\n",
            "Epoch 32/100\n",
            "53/53 [==============================] - 0s 4ms/step - loss: 0.2579 - accuracy: 0.8458 - val_loss: 0.3260 - val_accuracy: 0.7810\n",
            "Epoch 33/100\n",
            "53/53 [==============================] - 0s 3ms/step - loss: 0.2608 - accuracy: 0.8452 - val_loss: 0.3344 - val_accuracy: 0.7786\n",
            "Epoch 34/100\n",
            "53/53 [==============================] - 0s 3ms/step - loss: 0.2583 - accuracy: 0.8452 - val_loss: 0.3306 - val_accuracy: 0.7667\n",
            "Epoch 35/100\n",
            "53/53 [==============================] - 0s 3ms/step - loss: 0.2576 - accuracy: 0.8399 - val_loss: 0.3336 - val_accuracy: 0.7595\n",
            "Epoch 36/100\n",
            "53/53 [==============================] - 0s 3ms/step - loss: 0.2567 - accuracy: 0.8488 - val_loss: 0.3474 - val_accuracy: 0.7857\n",
            "Epoch 37/100\n",
            "53/53 [==============================] - 0s 4ms/step - loss: 0.2539 - accuracy: 0.8548 - val_loss: 0.3271 - val_accuracy: 0.7786\n",
            "Epoch 38/100\n",
            "53/53 [==============================] - 0s 3ms/step - loss: 0.2536 - accuracy: 0.8500 - val_loss: 0.3067 - val_accuracy: 0.8024\n",
            "Epoch 39/100\n",
            "53/53 [==============================] - 0s 3ms/step - loss: 0.2526 - accuracy: 0.8440 - val_loss: 0.3148 - val_accuracy: 0.7810\n",
            "Epoch 40/100\n",
            "53/53 [==============================] - 0s 4ms/step - loss: 0.2499 - accuracy: 0.8476 - val_loss: 0.3200 - val_accuracy: 0.7905\n",
            "Epoch 41/100\n",
            "53/53 [==============================] - 0s 3ms/step - loss: 0.2499 - accuracy: 0.8548 - val_loss: 0.3407 - val_accuracy: 0.7905\n",
            "Epoch 42/100\n",
            "53/53 [==============================] - 0s 4ms/step - loss: 0.2485 - accuracy: 0.8464 - val_loss: 0.3214 - val_accuracy: 0.7738\n",
            "Epoch 43/100\n",
            "53/53 [==============================] - 0s 3ms/step - loss: 0.2478 - accuracy: 0.8482 - val_loss: 0.2992 - val_accuracy: 0.8000\n",
            "Epoch 44/100\n",
            "53/53 [==============================] - 0s 3ms/step - loss: 0.2464 - accuracy: 0.8494 - val_loss: 0.3110 - val_accuracy: 0.7905\n",
            "Epoch 45/100\n",
            "53/53 [==============================] - 0s 3ms/step - loss: 0.2488 - accuracy: 0.8488 - val_loss: 0.3137 - val_accuracy: 0.7929\n",
            "Epoch 46/100\n",
            "53/53 [==============================] - 0s 3ms/step - loss: 0.2443 - accuracy: 0.8560 - val_loss: 0.3026 - val_accuracy: 0.8000\n",
            "Epoch 47/100\n",
            "53/53 [==============================] - 0s 4ms/step - loss: 0.2453 - accuracy: 0.8476 - val_loss: 0.3230 - val_accuracy: 0.7857\n",
            "Epoch 48/100\n",
            "53/53 [==============================] - 0s 4ms/step - loss: 0.2424 - accuracy: 0.8560 - val_loss: 0.3020 - val_accuracy: 0.8071\n",
            "Epoch 49/100\n",
            "53/53 [==============================] - 0s 3ms/step - loss: 0.2423 - accuracy: 0.8524 - val_loss: 0.2982 - val_accuracy: 0.8000\n",
            "Epoch 50/100\n",
            "53/53 [==============================] - 0s 5ms/step - loss: 0.2407 - accuracy: 0.8577 - val_loss: 0.3125 - val_accuracy: 0.7881\n",
            "Epoch 51/100\n",
            "53/53 [==============================] - 0s 5ms/step - loss: 0.2423 - accuracy: 0.8613 - val_loss: 0.3184 - val_accuracy: 0.8000\n",
            "Epoch 52/100\n",
            "53/53 [==============================] - 0s 5ms/step - loss: 0.2394 - accuracy: 0.8601 - val_loss: 0.3019 - val_accuracy: 0.7929\n",
            "Epoch 53/100\n",
            "53/53 [==============================] - 0s 5ms/step - loss: 0.2388 - accuracy: 0.8655 - val_loss: 0.3113 - val_accuracy: 0.8190\n",
            "Epoch 54/100\n",
            "53/53 [==============================] - 0s 5ms/step - loss: 0.2369 - accuracy: 0.8607 - val_loss: 0.3229 - val_accuracy: 0.7976\n",
            "Epoch 55/100\n",
            "53/53 [==============================] - 0s 6ms/step - loss: 0.2390 - accuracy: 0.8607 - val_loss: 0.3333 - val_accuracy: 0.7857\n",
            "Epoch 56/100\n",
            "53/53 [==============================] - 0s 6ms/step - loss: 0.2384 - accuracy: 0.8625 - val_loss: 0.3017 - val_accuracy: 0.8167\n",
            "Epoch 57/100\n",
            "53/53 [==============================] - 0s 6ms/step - loss: 0.2363 - accuracy: 0.8607 - val_loss: 0.2948 - val_accuracy: 0.8190\n",
            "Epoch 58/100\n",
            "53/53 [==============================] - 0s 7ms/step - loss: 0.2375 - accuracy: 0.8601 - val_loss: 0.3255 - val_accuracy: 0.7929\n",
            "Epoch 59/100\n",
            "53/53 [==============================] - 0s 5ms/step - loss: 0.2366 - accuracy: 0.8637 - val_loss: 0.3200 - val_accuracy: 0.7833\n",
            "Epoch 60/100\n",
            "53/53 [==============================] - 0s 6ms/step - loss: 0.2356 - accuracy: 0.8690 - val_loss: 0.2957 - val_accuracy: 0.8048\n",
            "Epoch 61/100\n",
            "53/53 [==============================] - 0s 6ms/step - loss: 0.2320 - accuracy: 0.8679 - val_loss: 0.3110 - val_accuracy: 0.7976\n",
            "Epoch 62/100\n",
            "53/53 [==============================] - 0s 6ms/step - loss: 0.2382 - accuracy: 0.8619 - val_loss: 0.3011 - val_accuracy: 0.8119\n",
            "Epoch 63/100\n",
            "53/53 [==============================] - 0s 6ms/step - loss: 0.2326 - accuracy: 0.8702 - val_loss: 0.2922 - val_accuracy: 0.8238\n",
            "Epoch 64/100\n",
            "53/53 [==============================] - 0s 3ms/step - loss: 0.2317 - accuracy: 0.8649 - val_loss: 0.2991 - val_accuracy: 0.8024\n",
            "Epoch 65/100\n",
            "53/53 [==============================] - 0s 4ms/step - loss: 0.2317 - accuracy: 0.8732 - val_loss: 0.3018 - val_accuracy: 0.8048\n",
            "Epoch 66/100\n",
            "53/53 [==============================] - 0s 3ms/step - loss: 0.2328 - accuracy: 0.8732 - val_loss: 0.3245 - val_accuracy: 0.7857\n",
            "Epoch 67/100\n",
            "53/53 [==============================] - 0s 3ms/step - loss: 0.2318 - accuracy: 0.8643 - val_loss: 0.3346 - val_accuracy: 0.7810\n",
            "Epoch 68/100\n",
            "53/53 [==============================] - 0s 3ms/step - loss: 0.2287 - accuracy: 0.8667 - val_loss: 0.3244 - val_accuracy: 0.7881\n",
            "Epoch 69/100\n",
            "53/53 [==============================] - 0s 3ms/step - loss: 0.2297 - accuracy: 0.8643 - val_loss: 0.3236 - val_accuracy: 0.7929\n",
            "Epoch 70/100\n",
            "53/53 [==============================] - 0s 3ms/step - loss: 0.2278 - accuracy: 0.8732 - val_loss: 0.3218 - val_accuracy: 0.8024\n",
            "Epoch 71/100\n",
            "53/53 [==============================] - 0s 4ms/step - loss: 0.2286 - accuracy: 0.8714 - val_loss: 0.3039 - val_accuracy: 0.8167\n",
            "Epoch 72/100\n",
            "53/53 [==============================] - 0s 3ms/step - loss: 0.2279 - accuracy: 0.8732 - val_loss: 0.3262 - val_accuracy: 0.8048\n",
            "Epoch 73/100\n",
            "53/53 [==============================] - 0s 4ms/step - loss: 0.2276 - accuracy: 0.8750 - val_loss: 0.3158 - val_accuracy: 0.8119\n",
            "Epoch 74/100\n",
            "53/53 [==============================] - 0s 3ms/step - loss: 0.2233 - accuracy: 0.8804 - val_loss: 0.3160 - val_accuracy: 0.8119\n",
            "Epoch 75/100\n",
            "53/53 [==============================] - 0s 3ms/step - loss: 0.2259 - accuracy: 0.8732 - val_loss: 0.3051 - val_accuracy: 0.7952\n",
            "Epoch 76/100\n",
            "53/53 [==============================] - 0s 4ms/step - loss: 0.2233 - accuracy: 0.8780 - val_loss: 0.3012 - val_accuracy: 0.8119\n",
            "Epoch 77/100\n",
            "53/53 [==============================] - 0s 3ms/step - loss: 0.2211 - accuracy: 0.8786 - val_loss: 0.3501 - val_accuracy: 0.7881\n",
            "Epoch 78/100\n",
            "53/53 [==============================] - 0s 3ms/step - loss: 0.2252 - accuracy: 0.8798 - val_loss: 0.3216 - val_accuracy: 0.7929\n",
            "Epoch 79/100\n",
            "53/53 [==============================] - 0s 3ms/step - loss: 0.2228 - accuracy: 0.8750 - val_loss: 0.3164 - val_accuracy: 0.8119\n",
            "Epoch 80/100\n",
            "53/53 [==============================] - 0s 3ms/step - loss: 0.2228 - accuracy: 0.8762 - val_loss: 0.3418 - val_accuracy: 0.7976\n",
            "Epoch 81/100\n",
            "53/53 [==============================] - 0s 3ms/step - loss: 0.2248 - accuracy: 0.8762 - val_loss: 0.3370 - val_accuracy: 0.7881\n",
            "Epoch 82/100\n",
            "53/53 [==============================] - 0s 4ms/step - loss: 0.2215 - accuracy: 0.8804 - val_loss: 0.3425 - val_accuracy: 0.7952\n",
            "Epoch 83/100\n",
            "53/53 [==============================] - 0s 3ms/step - loss: 0.2215 - accuracy: 0.8833 - val_loss: 0.3252 - val_accuracy: 0.8000\n",
            "Epoch 84/100\n",
            "53/53 [==============================] - 0s 4ms/step - loss: 0.2203 - accuracy: 0.8762 - val_loss: 0.3064 - val_accuracy: 0.8048\n",
            "Epoch 85/100\n",
            "53/53 [==============================] - 0s 3ms/step - loss: 0.2191 - accuracy: 0.8833 - val_loss: 0.3273 - val_accuracy: 0.8071\n",
            "Epoch 86/100\n",
            "53/53 [==============================] - 0s 4ms/step - loss: 0.2175 - accuracy: 0.8833 - val_loss: 0.3380 - val_accuracy: 0.7905\n",
            "Epoch 87/100\n",
            "53/53 [==============================] - 0s 3ms/step - loss: 0.2164 - accuracy: 0.8851 - val_loss: 0.3240 - val_accuracy: 0.8119\n",
            "Epoch 88/100\n",
            "53/53 [==============================] - 0s 4ms/step - loss: 0.2185 - accuracy: 0.8821 - val_loss: 0.3086 - val_accuracy: 0.8048\n",
            "Epoch 89/100\n",
            "53/53 [==============================] - 0s 3ms/step - loss: 0.2187 - accuracy: 0.8786 - val_loss: 0.3288 - val_accuracy: 0.7976\n",
            "Epoch 90/100\n",
            "53/53 [==============================] - 0s 3ms/step - loss: 0.2152 - accuracy: 0.8780 - val_loss: 0.3159 - val_accuracy: 0.8143\n",
            "Epoch 91/100\n",
            "53/53 [==============================] - 0s 3ms/step - loss: 0.2133 - accuracy: 0.8845 - val_loss: 0.3282 - val_accuracy: 0.8119\n",
            "Epoch 92/100\n",
            "53/53 [==============================] - 0s 4ms/step - loss: 0.2145 - accuracy: 0.8815 - val_loss: 0.3238 - val_accuracy: 0.8214\n",
            "Epoch 93/100\n",
            "53/53 [==============================] - 0s 3ms/step - loss: 0.2149 - accuracy: 0.8875 - val_loss: 0.3140 - val_accuracy: 0.8190\n",
            "Epoch 94/100\n",
            "53/53 [==============================] - 0s 3ms/step - loss: 0.2147 - accuracy: 0.8821 - val_loss: 0.3314 - val_accuracy: 0.8024\n",
            "Epoch 95/100\n",
            "53/53 [==============================] - 0s 3ms/step - loss: 0.2142 - accuracy: 0.8857 - val_loss: 0.3184 - val_accuracy: 0.8071\n",
            "Epoch 96/100\n",
            "53/53 [==============================] - 0s 3ms/step - loss: 0.2099 - accuracy: 0.8845 - val_loss: 0.3291 - val_accuracy: 0.8214\n",
            "Epoch 97/100\n",
            "53/53 [==============================] - 0s 4ms/step - loss: 0.2138 - accuracy: 0.8792 - val_loss: 0.3372 - val_accuracy: 0.8000\n",
            "Epoch 98/100\n",
            "53/53 [==============================] - 0s 3ms/step - loss: 0.2138 - accuracy: 0.8827 - val_loss: 0.3477 - val_accuracy: 0.8000\n",
            "Epoch 99/100\n",
            "53/53 [==============================] - 0s 3ms/step - loss: 0.2112 - accuracy: 0.8821 - val_loss: 0.3210 - val_accuracy: 0.8238\n",
            "Epoch 100/100\n",
            "53/53 [==============================] - 0s 3ms/step - loss: 0.2104 - accuracy: 0.8804 - val_loss: 0.3267 - val_accuracy: 0.8071\n"
          ]
        }
      ]
    },
    {
      "cell_type": "code",
      "source": [
        "# # Tiempo de computo\n",
        "t1 = process_time()\n",
        "tc = t1-t0\n",
        "\n",
        "# # Mostrar tiempo de cómputo del entrenamiento del modelo de RNA\n",
        "print('El tiempo de cómputo con RNA fue: %.2f segundos' % tc)"
      ],
      "metadata": {
        "id": "ns4XH0KkryiK",
        "colab": {
          "base_uri": "https://localhost:8080/"
        },
        "outputId": "214b5842-3cf4-43a9-d326-8e195d0fde5b"
      },
      "id": "ns4XH0KkryiK",
      "execution_count": null,
      "outputs": [
        {
          "output_type": "stream",
          "name": "stdout",
          "text": [
            "El tiempo de cómputo con RNA fue: 24.46 segundos\n"
          ]
        }
      ]
    },
    {
      "cell_type": "markdown",
      "source": [
        "### Predicción"
      ],
      "metadata": {
        "id": "kt-1kPj1t2y_"
      },
      "id": "kt-1kPj1t2y_"
    },
    {
      "cell_type": "code",
      "source": [
        "X_pred = modelRNA.predict(X_test, batch_size = 32, verbose=1)\n",
        "y_pred = np.argmax(X_pred, axis=1)\n",
        "print(y_pred.shape)"
      ],
      "metadata": {
        "id": "s2V_K7x8t4LQ",
        "colab": {
          "base_uri": "https://localhost:8080/"
        },
        "outputId": "d6b6602f-3fa0-4b43-9fee-5f48bf3bb634"
      },
      "id": "s2V_K7x8t4LQ",
      "execution_count": null,
      "outputs": [
        {
          "output_type": "stream",
          "name": "stdout",
          "text": [
            "29/29 [==============================] - 0s 2ms/step\n",
            "(900,)\n"
          ]
        }
      ]
    },
    {
      "cell_type": "markdown",
      "source": [
        "## Evaluación del modelo entrenado"
      ],
      "metadata": {
        "id": "0Z0yUZ0dqgIz"
      },
      "id": "0Z0yUZ0dqgIz"
    },
    {
      "cell_type": "markdown",
      "source": [
        "### Gráficas de pérdida de entrenamiento y validación"
      ],
      "metadata": {
        "id": "NFH5y6qOqio9"
      },
      "id": "NFH5y6qOqio9"
    },
    {
      "cell_type": "code",
      "execution_count": null,
      "id": "internal-hudson",
      "metadata": {
        "id": "internal-hudson",
        "colab": {
          "base_uri": "https://localhost:8080/",
          "height": 354
        },
        "outputId": "b846b978-6d9a-4267-9a29-36af6920c840"
      },
      "outputs": [
        {
          "output_type": "display_data",
          "data": {
            "text/plain": [
              "<Figure size 1600x500 with 2 Axes>"
            ],
            "image/png": "[encoded data removed]"
          },
          "metadata": {}
        }
      ],
      "source": [
        "# Gráficas de pérdidas en entrenamiento y validación\n",
        "loss = training_log.history['loss']\n",
        "val_loss = training_log.history['val_loss']\n",
        "epochs = range(1, len(val_loss) + 1)\n",
        "\n",
        "# Gráfica comparativa: pérdida en entrenamiento\n",
        "plt.figure(figsize=(16, 5))\n",
        "plt.subplot(1, 2, 1)\n",
        "plt.plot(epochs, loss, 'g*--', label=\"Perceptrón 5 capas\")\n",
        "plt.title('Pérdida en el entrenamiento arquitectura ARN')\n",
        "plt.xlabel('Épocas')\n",
        "plt.ylabel('Pérdida')\n",
        "plt.legend(loc=\"upper center\", fontsize=\"small\")\n",
        "plt.legend()\n",
        "plt.grid(True)\n",
        "\n",
        "# Gráfica comparativa: pérdida en validación\n",
        "plt.subplot(1, 2, 2)\n",
        "plt.plot(epochs, val_loss, 'b*--', label=\"Perceptrón 5 capas\")\n",
        "plt.title('Pérdida en la validación arquitectura ARN')\n",
        "plt.xlabel('Épocas')\n",
        "plt.ylabel('Pérdida')\n",
        "plt.legend(loc=\"upper center\", fontsize=\"small\")\n",
        "plt.legend()\n",
        "plt.grid(True)\n",
        "plt.show()"
      ]
    },
    {
      "cell_type": "markdown",
      "source": [
        "### Visualizar reporte del entrenamiento de la RNA"
      ],
      "metadata": {
        "id": "o_wQRzRnq3K8"
      },
      "id": "o_wQRzRnq3K8"
    },
    {
      "cell_type": "code",
      "execution_count": null,
      "id": "reliable-resort",
      "metadata": {
        "id": "reliable-resort",
        "colab": {
          "base_uri": "https://localhost:8080/"
        },
        "outputId": "5bd1bd85-ed78-425a-d77f-16c5cf0444e8"
      },
      "outputs": [
        {
          "output_type": "stream",
          "name": "stdout",
          "text": [
            "\n",
            "               precision    recall  f1-score   support\n",
            "\n",
            "           0      0.888     0.680     0.770       175\n",
            "           1      0.636     0.789     0.704       246\n",
            "           2      0.894     0.860     0.877       479\n",
            "\n",
            "    accuracy                          0.806       900\n",
            "   macro avg      0.806     0.776     0.784       900\n",
            "weighted avg      0.822     0.806     0.809       900\n",
            "\n"
          ]
        }
      ],
      "source": [
        "# Métricas de desempeño\n",
        "# Mostrar la precisión, recall, F1-score\n",
        "print(\"\\n\", classification_report(y_test, y_pred, digits=3))"
      ]
    },
    {
      "cell_type": "markdown",
      "source": [
        "### Visualizar matriz de confusión"
      ],
      "metadata": {
        "id": "7MPa73-zrCAr"
      },
      "id": "7MPa73-zrCAr"
    },
    {
      "cell_type": "code",
      "execution_count": null,
      "id": "opened-quantity",
      "metadata": {
        "id": "opened-quantity",
        "colab": {
          "base_uri": "https://localhost:8080/",
          "height": 526
        },
        "outputId": "c7baf586-f937-40e4-cba1-6410cf82cd9e"
      },
      "outputs": [
        {
          "output_type": "display_data",
          "data": {
            "text/plain": [
              "<Figure size 640x480 with 1 Axes>"
            ],
            "image/png": "[encoded data removed]"
          },
          "metadata": {}
        }
      ],
      "source": [
        "# Matriz de confusión\n",
        "# cm = metrics.confusion_matrix(Y_test.argmax(axis=1),\n",
        "#                               Y_pred.argmax(axis=1))\n",
        "cm = confusion_matrix(y_test, y_pred)\n",
        "plt.imshow(cm, interpolation='nearest', cmap=plt.cm.Wistia)\n",
        "classNames = ['RCV bajo','RCV latente', 'RCV alto']\n",
        "plt.title('Matriz de confusión modelo predictivo RCV')\n",
        "plt.ylabel('True label')\n",
        "plt.xlabel('Predicted label')\n",
        "tick_marks = np.arange(len(classNames))\n",
        "plt.xticks(tick_marks, classNames, rotation=45)\n",
        "plt.yticks(tick_marks, classNames)\n",
        "for i in range(3):\n",
        "    for j in range(3):\n",
        "        plt.text(j,i, str(cm[i][j]))"
      ]
    },
    {
      "cell_type": "markdown",
      "source": [
        "### Curva ROC\n"
      ],
      "metadata": {
        "id": "fI_T7Ud8Myl6"
      },
      "id": "fI_T7Ud8Myl6"
    },
    {
      "cell_type": "code",
      "source": [
        "# Curva ROC\n",
        "# #https://stackabuse.com/understanding-roc-curves-with-python/\n",
        "Y_pred = np_utils.to_categorical(y_pred)\n",
        "auc = roc_auc_score(Y_test, Y_pred)\n",
        "fpr, tpr, threshold = roc_curve(Y_test[:,0], Y_pred[:,0])\n",
        "font = {'family': 'serif',\n",
        "    'color':  'darkred',\n",
        "    'weight': 'normal',\n",
        "    'size': 16,\n",
        "    }\n",
        "plt.plot(fpr, tpr, color='green', label='ROC RCV bajo')\n",
        "plt.plot([0, 1], [0, 1], color='black', linestyle='--')\n",
        "plt.xlabel('Tasa de Falsos Positivos')\n",
        "plt.ylabel('Tasa de Verdaderos Postivos')\n",
        "plt.title('Curva ROC RNA')\n",
        "fpr, tpr, threshold = roc_curve(Y_test[:,1], Y_pred[:,1])\n",
        "plt.plot(fpr, tpr, color='darkblue', label='ROC RCV latente')\n",
        "fpr, tpr, threshold = roc_curve(Y_test[:,2], Y_pred[:,2])\n",
        "plt.plot(fpr, tpr, color='orange', label='ROC RCV alto')\n",
        "plt.text(0.7, 0.55, 'AUC: %.2f' % auc, fontdict=font)\n",
        "plt.legend()\n",
        "plt.show()"
      ],
      "metadata": {
        "id": "HysJdDp7M01I",
        "colab": {
          "base_uri": "https://localhost:8080/",
          "height": 472
        },
        "outputId": "b7a32151-ffd0-40d6-dd00-bc8ec8cd88fd"
      },
      "id": "HysJdDp7M01I",
      "execution_count": null,
      "outputs": [
        {
          "output_type": "display_data",
          "data": {
            "text/plain": [
              "<Figure size 640x480 with 1 Axes>"
            ],
            "image/png": "[encoded data removed]"
          },
          "metadata": {}
        }
      ]
    },
    {
      "cell_type": "code",
      "execution_count": null,
      "id": "substantial-killer",
      "metadata": {
        "id": "substantial-killer"
      },
      "outputs": [],
      "source": [
        "#Guardar modelo\n",
        "# import pickle\n",
        "# pickle.dump(modelRNA, open('RNA_RCV_01.pkl', 'wb'))\n",
        "\n",
        "# #Cargar modelo almacenado\n",
        "# model = pickle.load(open('RNA_RCV_01.pkl', 'rb'))\n",
        "# result_val = model.score(X_valid, y_valid)\n",
        "# result_test = model.score(X_test, y_test)\n",
        "# print(result_val)\n",
        "# print(result_test)"
      ]
    },
    {
      "cell_type": "markdown",
      "id": "acceptable-knowing",
      "metadata": {
        "id": "acceptable-knowing"
      },
      "source": [
        "## Conclusiones\n"
      ]
    }
  ],
  "metadata": {
    "kernelspec": {
      "display_name": "Python (bertgpu)",
      "language": "python",
      "name": "bertgpu"
    },
    "language_info": {
      "codemirror_mode": {
        "name": "ipython",
        "version": 3
      },
      "file_extension": ".py",
      "mimetype": "text/x-python",
      "name": "python",
      "nbconvert_exporter": "python",
      "pygments_lexer": "ipython3",
      "version": "3.7.10"
    },
    "colab": {
      "provenance": []
    }
  },
  "nbformat": 4,
  "nbformat_minor": 5
}